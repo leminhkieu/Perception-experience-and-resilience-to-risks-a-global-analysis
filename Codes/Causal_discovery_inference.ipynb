{
 "cells": [
  {
   "cell_type": "markdown",
   "metadata": {},
   "source": [
    "# Estimating Causal Effect towards individual Resilience to risks globally\n",
    "Code authored by: Minh Kieu, UoA, 2023 <br />\n",
    "DoWhy Library: https://microsoft.github.io/dowhy/ <br />\n",
    "Data from: https://wrp.lrfoundation.org.uk\n"
   ]
  },
  {
   "cell_type": "markdown",
   "metadata": {},
   "source": [
    "### Import libraries"
   ]
  },
  {
   "cell_type": "code",
   "execution_count": 39,
   "metadata": {},
   "outputs": [],
   "source": [
    "#data modules\n",
    "import pandas as pd \n",
    "import pickle\n",
    "import pyreadstat\n",
    "\n",
    "#Causal Discover modules\n",
    "from pgmpy.estimators import HillClimbSearch, BicScore\n",
    "import networkx as nx\n",
    "import matplotlib.pyplot as plt\n",
    "\n",
    "#Causal Inference modules\n",
    "from sklearn.ensemble import RandomForestRegressor\n",
    "import econml\n",
    "import dowhy\n",
    "from dowhy import CausalModel"
   ]
  },
  {
   "cell_type": "markdown",
   "metadata": {},
   "source": [
    "### Load data\n"
   ]
  },
  {
   "cell_type": "code",
   "execution_count": 40,
   "metadata": {},
   "outputs": [
    {
     "data": {
      "text/html": [
       "<div>\n",
       "<style scoped>\n",
       "    .dataframe tbody tr th:only-of-type {\n",
       "        vertical-align: middle;\n",
       "    }\n",
       "\n",
       "    .dataframe tbody tr th {\n",
       "        vertical-align: top;\n",
       "    }\n",
       "\n",
       "    .dataframe thead th {\n",
       "        text-align: right;\n",
       "    }\n",
       "</style>\n",
       "<table border=\"1\" class=\"dataframe\">\n",
       "  <thead>\n",
       "    <tr style=\"text-align: right;\">\n",
       "      <th></th>\n",
       "      <th>WPID_RANDOM</th>\n",
       "      <th>WP5</th>\n",
       "      <th>Country</th>\n",
       "      <th>WGT</th>\n",
       "      <th>Year</th>\n",
       "      <th>GlobalRegion</th>\n",
       "      <th>country.in.both.waves</th>\n",
       "      <th>CountryIncomeLevel2021</th>\n",
       "      <th>CountryIncomeLevel2019</th>\n",
       "      <th>PROJWT_2021</th>\n",
       "      <th>...</th>\n",
       "      <th>REGION_ZAF</th>\n",
       "      <th>REGION2_ZMB</th>\n",
       "      <th>REGION_ZWE</th>\n",
       "      <th>Q2_1_2019A</th>\n",
       "      <th>Q2_1_2019B</th>\n",
       "      <th>Q5A_2019</th>\n",
       "      <th>Q5B_2019</th>\n",
       "      <th>Q5C_2019</th>\n",
       "      <th>Q5D_2019</th>\n",
       "      <th>Q5F_2019</th>\n",
       "    </tr>\n",
       "  </thead>\n",
       "  <tbody>\n",
       "    <tr>\n",
       "      <th>0</th>\n",
       "      <td>174262180.0</td>\n",
       "      <td>1.0</td>\n",
       "      <td>United States</td>\n",
       "      <td>2.132627</td>\n",
       "      <td>2021.0</td>\n",
       "      <td>6.0</td>\n",
       "      <td>1.0</td>\n",
       "      <td>4.0</td>\n",
       "      <td>NaN</td>\n",
       "      <td>562058.627707</td>\n",
       "      <td>...</td>\n",
       "      <td>NaN</td>\n",
       "      <td>NaN</td>\n",
       "      <td>NaN</td>\n",
       "      <td>NaN</td>\n",
       "      <td>NaN</td>\n",
       "      <td>NaN</td>\n",
       "      <td>NaN</td>\n",
       "      <td>NaN</td>\n",
       "      <td>NaN</td>\n",
       "      <td>NaN</td>\n",
       "    </tr>\n",
       "    <tr>\n",
       "      <th>1</th>\n",
       "      <td>115327451.0</td>\n",
       "      <td>1.0</td>\n",
       "      <td>United States</td>\n",
       "      <td>0.620385</td>\n",
       "      <td>2021.0</td>\n",
       "      <td>6.0</td>\n",
       "      <td>1.0</td>\n",
       "      <td>4.0</td>\n",
       "      <td>NaN</td>\n",
       "      <td>163503.920074</td>\n",
       "      <td>...</td>\n",
       "      <td>NaN</td>\n",
       "      <td>NaN</td>\n",
       "      <td>NaN</td>\n",
       "      <td>NaN</td>\n",
       "      <td>NaN</td>\n",
       "      <td>NaN</td>\n",
       "      <td>NaN</td>\n",
       "      <td>NaN</td>\n",
       "      <td>NaN</td>\n",
       "      <td>NaN</td>\n",
       "    </tr>\n",
       "  </tbody>\n",
       "</table>\n",
       "<p>2 rows × 208 columns</p>\n",
       "</div>"
      ],
      "text/plain": [
       "   WPID_RANDOM  WP5        Country       WGT    Year  GlobalRegion  \\\n",
       "0  174262180.0  1.0  United States  2.132627  2021.0           6.0   \n",
       "1  115327451.0  1.0  United States  0.620385  2021.0           6.0   \n",
       "\n",
       "   country.in.both.waves  CountryIncomeLevel2021  CountryIncomeLevel2019  \\\n",
       "0                    1.0                     4.0                     NaN   \n",
       "1                    1.0                     4.0                     NaN   \n",
       "\n",
       "     PROJWT_2021  ...  REGION_ZAF  REGION2_ZMB  REGION_ZWE  Q2_1_2019A  \\\n",
       "0  562058.627707  ...         NaN          NaN         NaN         NaN   \n",
       "1  163503.920074  ...         NaN          NaN         NaN         NaN   \n",
       "\n",
       "   Q2_1_2019B  Q5A_2019  Q5B_2019  Q5C_2019  Q5D_2019  Q5F_2019  \n",
       "0         NaN       NaN       NaN       NaN       NaN       NaN  \n",
       "1         NaN       NaN       NaN       NaN       NaN       NaN  \n",
       "\n",
       "[2 rows x 208 columns]"
      ]
     },
     "execution_count": 40,
     "metadata": {},
     "output_type": "execute_result"
    }
   ],
   "source": [
    "df, meta = pyreadstat.read_sav(\"../Data/lrf_wrp_2021_full_data.sav\")\n",
    "#filter out countries with number of data points less than 1200\n",
    "df = df.groupby('Country').filter(lambda x: x['Country'].count() >= 1200)\n",
    "df_1=df[df['Q1'].isnull()]\n",
    "\n",
    "df.head(2)"
   ]
  },
  {
   "cell_type": "markdown",
   "metadata": {},
   "source": [
    "## Step 1: Estimate the values of Perception, Experience and Resilience index\n",
    "\n",
    "#### For given risk (eg: crime)\n",
    "$$\\text{Perception Index (given country)} = \\text{avg of individual perception scores of a country}$$\n",
    "$$\\text{Experience Index (given country)} = \\text{avg of individual experience scores of a country}$$\n",
    "$$\\text{Risk Impact Index (individual)} = \\text{experience score} \\times \\text{perception score}$$\n",
    "\n",
    "\n",
    "#### Resilience index for all seven risks\n",
    "$$\\text{Resilience Index (individual)} = \\text{Average of all the individual response to Resilience-related questions} $$\n",
    "\n",
    "- To calculate the perception score, the weitages are  very worried = 1, somewhat worried = 0.5, not worried = 0, and DK & refused = missing \n",
    "\n",
    "- To calculate the experience score, the weitages are  Both = 1, Yes,personally experienced = 0.75, Yes,know someone who has experienced = 0.5, No = 0, and DK & refused = missing \n",
    "\n",
    "### Step 1.1: First, let's estimate the Perception, Experience and Risk Impact Index"
   ]
  },
  {
   "cell_type": "code",
   "execution_count": 41,
   "metadata": {},
   "outputs": [
    {
     "data": {
      "text/html": [
       "<div>\n",
       "<style scoped>\n",
       "    .dataframe tbody tr th:only-of-type {\n",
       "        vertical-align: middle;\n",
       "    }\n",
       "\n",
       "    .dataframe tbody tr th {\n",
       "        vertical-align: top;\n",
       "    }\n",
       "\n",
       "    .dataframe thead th {\n",
       "        text-align: right;\n",
       "    }\n",
       "</style>\n",
       "<table border=\"1\" class=\"dataframe\">\n",
       "  <thead>\n",
       "    <tr style=\"text-align: right;\">\n",
       "      <th></th>\n",
       "      <th>GlobalRegion</th>\n",
       "      <th>Country</th>\n",
       "      <th>Q4A</th>\n",
       "      <th>Q4B</th>\n",
       "      <th>Q4C</th>\n",
       "      <th>Q4D</th>\n",
       "      <th>Q4E</th>\n",
       "      <th>Q4F</th>\n",
       "      <th>Q4G</th>\n",
       "      <th>Q5A</th>\n",
       "      <th>Q5B</th>\n",
       "      <th>Q5C</th>\n",
       "      <th>Q5D</th>\n",
       "      <th>Q5E</th>\n",
       "      <th>Q5F</th>\n",
       "      <th>Q5G</th>\n",
       "      <th>Perception_index</th>\n",
       "      <th>Experience_index</th>\n",
       "      <th>Impact_index</th>\n",
       "    </tr>\n",
       "  </thead>\n",
       "  <tbody>\n",
       "    <tr>\n",
       "      <th>0</th>\n",
       "      <td>6.0</td>\n",
       "      <td>United States</td>\n",
       "      <td>1.0</td>\n",
       "      <td>1.0</td>\n",
       "      <td>1.0</td>\n",
       "      <td>1.0</td>\n",
       "      <td>0.5</td>\n",
       "      <td>0.0</td>\n",
       "      <td>NaN</td>\n",
       "      <td>0.0</td>\n",
       "      <td>0.0</td>\n",
       "      <td>0.0</td>\n",
       "      <td>0.0</td>\n",
       "      <td>0.0</td>\n",
       "      <td>0.0</td>\n",
       "      <td>0.0</td>\n",
       "      <td>0.750000</td>\n",
       "      <td>0.0</td>\n",
       "      <td>0.0</td>\n",
       "    </tr>\n",
       "    <tr>\n",
       "      <th>1</th>\n",
       "      <td>6.0</td>\n",
       "      <td>United States</td>\n",
       "      <td>0.5</td>\n",
       "      <td>0.5</td>\n",
       "      <td>0.5</td>\n",
       "      <td>0.0</td>\n",
       "      <td>0.0</td>\n",
       "      <td>0.0</td>\n",
       "      <td>0.0</td>\n",
       "      <td>0.0</td>\n",
       "      <td>0.0</td>\n",
       "      <td>0.0</td>\n",
       "      <td>0.0</td>\n",
       "      <td>0.0</td>\n",
       "      <td>0.0</td>\n",
       "      <td>0.0</td>\n",
       "      <td>0.214286</td>\n",
       "      <td>0.0</td>\n",
       "      <td>0.0</td>\n",
       "    </tr>\n",
       "  </tbody>\n",
       "</table>\n",
       "</div>"
      ],
      "text/plain": [
       "   GlobalRegion        Country  Q4A  Q4B  Q4C  Q4D  Q4E  Q4F  Q4G  Q5A  Q5B  \\\n",
       "0           6.0  United States  1.0  1.0  1.0  1.0  0.5  0.0  NaN  0.0  0.0   \n",
       "1           6.0  United States  0.5  0.5  0.5  0.0  0.0  0.0  0.0  0.0  0.0   \n",
       "\n",
       "   Q5C  Q5D  Q5E  Q5F  Q5G  Perception_index  Experience_index  Impact_index  \n",
       "0  0.0  0.0  0.0  0.0  0.0          0.750000               0.0           0.0  \n",
       "1  0.0  0.0  0.0  0.0  0.0          0.214286               0.0           0.0  "
      ]
     },
     "execution_count": 41,
     "metadata": {},
     "output_type": "execute_result"
    }
   ],
   "source": [
    "import numpy as np \n",
    "\n",
    "perception_df=df[['GlobalRegion','Country', 'Q4A', 'Q4B','Q4C','Q4D', 'Q4E','Q4F','Q4G','Q5A','Q5B','Q5C','Q5D','Q5E','Q5F','Q5G']].copy()\n",
    "\n",
    "# Replace Don't know and Refuse to answer response to NaN\n",
    "cols_to_replace = ['Q4A', 'Q4B','Q4C','Q4D', 'Q4E','Q4F','Q4G','Q5A','Q5B','Q5C','Q5D','Q5E','Q5F','Q5G']\n",
    "replace_dict = {98: np.nan, 99: np.nan}\n",
    "perception_df[cols_to_replace] = perception_df[cols_to_replace].replace(replace_dict)\n",
    "\n",
    "#removing the raws if all the columns have missing values, 98, 99 \n",
    "perception_df.dropna(subset=['Q4A', 'Q4B','Q4C','Q4D', 'Q4E','Q4F','Q4G','Q5A','Q5B','Q5C','Q5D','Q5E','Q5F','Q5G'], thresh=7, inplace=True)\n",
    "\n",
    "# replace the values 2 with 0.5 and 3 with 0\n",
    "perception_df.loc[:, ['Q4A', 'Q4B','Q4C','Q4D', 'Q4E','Q4F','Q4G']] = perception_df.loc[:, ['Q4A', 'Q4B','Q4C','Q4D', 'Q4E','Q4F','Q4G']].replace({2: 0.5, 3: 0})\n",
    "perception_df.loc[:, ['Q5A','Q5B','Q5C','Q5D','Q5E','Q5F','Q5G']] = perception_df.loc[:, ['Q5A','Q5B','Q5C','Q5D','Q5E','Q5F','Q5G']].replace({3: 1, 1: 0.75, 2: 0.5, 4: 0})\n",
    "\n",
    "# define a function to compute the average of the non-ignored values in each row for perception score (worry) and experience score)\n",
    "def compute_average(row):\n",
    "    valid_values = [value for value in row if not pd.isna(value)]\n",
    "    if len(valid_values) > 0:\n",
    "        return np.mean(valid_values)\n",
    "    else:\n",
    "        return np.nan\n",
    "\n",
    "# create a new column with the computed average\n",
    "perception_df['Perception_index'] = perception_df.loc[:, ['Q4A', 'Q4B','Q4C','Q4D', 'Q4E','Q4F','Q4G']].apply(compute_average, axis=1)\n",
    "perception_df['Experience_index'] = perception_df.loc[:, ['Q5A','Q5B','Q5C','Q5D','Q5E','Q5F','Q5G']].apply(compute_average, axis=1)\n",
    "perception_df['Impact_index'] = perception_df['Perception_index'] * perception_df['Experience_index']\n",
    "perception_df.head(2)\n"
   ]
  },
  {
   "cell_type": "markdown",
   "metadata": {},
   "source": [
    "Now we can drop the individual questions related to Perception and Experience "
   ]
  },
  {
   "cell_type": "code",
   "execution_count": 42,
   "metadata": {},
   "outputs": [
    {
     "data": {
      "text/html": [
       "<div>\n",
       "<style scoped>\n",
       "    .dataframe tbody tr th:only-of-type {\n",
       "        vertical-align: middle;\n",
       "    }\n",
       "\n",
       "    .dataframe tbody tr th {\n",
       "        vertical-align: top;\n",
       "    }\n",
       "\n",
       "    .dataframe thead th {\n",
       "        text-align: right;\n",
       "    }\n",
       "</style>\n",
       "<table border=\"1\" class=\"dataframe\">\n",
       "  <thead>\n",
       "    <tr style=\"text-align: right;\">\n",
       "      <th></th>\n",
       "      <th>WPID_RANDOM</th>\n",
       "      <th>WP5</th>\n",
       "      <th>Country</th>\n",
       "      <th>WGT</th>\n",
       "      <th>Year</th>\n",
       "      <th>GlobalRegion</th>\n",
       "      <th>country.in.both.waves</th>\n",
       "      <th>CountryIncomeLevel2021</th>\n",
       "      <th>CountryIncomeLevel2019</th>\n",
       "      <th>PROJWT_2021</th>\n",
       "      <th>...</th>\n",
       "      <th>Q2_1_2019A</th>\n",
       "      <th>Q2_1_2019B</th>\n",
       "      <th>Q5A_2019</th>\n",
       "      <th>Q5B_2019</th>\n",
       "      <th>Q5C_2019</th>\n",
       "      <th>Q5D_2019</th>\n",
       "      <th>Q5F_2019</th>\n",
       "      <th>Perception_index</th>\n",
       "      <th>Experience_index</th>\n",
       "      <th>Impact_index</th>\n",
       "    </tr>\n",
       "  </thead>\n",
       "  <tbody>\n",
       "    <tr>\n",
       "      <th>0</th>\n",
       "      <td>174262180.0</td>\n",
       "      <td>1.0</td>\n",
       "      <td>United States</td>\n",
       "      <td>2.132627</td>\n",
       "      <td>2021.0</td>\n",
       "      <td>6.0</td>\n",
       "      <td>1.0</td>\n",
       "      <td>4.0</td>\n",
       "      <td>NaN</td>\n",
       "      <td>562058.627707</td>\n",
       "      <td>...</td>\n",
       "      <td>NaN</td>\n",
       "      <td>NaN</td>\n",
       "      <td>NaN</td>\n",
       "      <td>NaN</td>\n",
       "      <td>NaN</td>\n",
       "      <td>NaN</td>\n",
       "      <td>NaN</td>\n",
       "      <td>0.750000</td>\n",
       "      <td>0.0</td>\n",
       "      <td>0.0</td>\n",
       "    </tr>\n",
       "    <tr>\n",
       "      <th>1</th>\n",
       "      <td>115327451.0</td>\n",
       "      <td>1.0</td>\n",
       "      <td>United States</td>\n",
       "      <td>0.620385</td>\n",
       "      <td>2021.0</td>\n",
       "      <td>6.0</td>\n",
       "      <td>1.0</td>\n",
       "      <td>4.0</td>\n",
       "      <td>NaN</td>\n",
       "      <td>163503.920074</td>\n",
       "      <td>...</td>\n",
       "      <td>NaN</td>\n",
       "      <td>NaN</td>\n",
       "      <td>NaN</td>\n",
       "      <td>NaN</td>\n",
       "      <td>NaN</td>\n",
       "      <td>NaN</td>\n",
       "      <td>NaN</td>\n",
       "      <td>0.214286</td>\n",
       "      <td>0.0</td>\n",
       "      <td>0.0</td>\n",
       "    </tr>\n",
       "  </tbody>\n",
       "</table>\n",
       "<p>2 rows × 197 columns</p>\n",
       "</div>"
      ],
      "text/plain": [
       "   WPID_RANDOM  WP5        Country       WGT    Year  GlobalRegion  \\\n",
       "0  174262180.0  1.0  United States  2.132627  2021.0           6.0   \n",
       "1  115327451.0  1.0  United States  0.620385  2021.0           6.0   \n",
       "\n",
       "   country.in.both.waves  CountryIncomeLevel2021  CountryIncomeLevel2019  \\\n",
       "0                    1.0                     4.0                     NaN   \n",
       "1                    1.0                     4.0                     NaN   \n",
       "\n",
       "     PROJWT_2021  ...  Q2_1_2019A  Q2_1_2019B  Q5A_2019  Q5B_2019  Q5C_2019  \\\n",
       "0  562058.627707  ...         NaN         NaN       NaN       NaN       NaN   \n",
       "1  163503.920074  ...         NaN         NaN       NaN       NaN       NaN   \n",
       "\n",
       "   Q5D_2019  Q5F_2019  Perception_index  Experience_index  Impact_index  \n",
       "0       NaN       NaN          0.750000               0.0           0.0  \n",
       "1       NaN       NaN          0.214286               0.0           0.0  \n",
       "\n",
       "[2 rows x 197 columns]"
      ]
     },
     "execution_count": 42,
     "metadata": {},
     "output_type": "execute_result"
    }
   ],
   "source": [
    "df= df.drop(cols_to_replace, axis=1)\n",
    "df = df.join(perception_df[['Perception_index','Experience_index','Impact_index']])\n",
    "df.head(2)"
   ]
  },
  {
   "cell_type": "code",
   "execution_count": 45,
   "metadata": {},
   "outputs": [
    {
     "data": {
      "text/html": [
       "<div>\n",
       "<style scoped>\n",
       "    .dataframe tbody tr th:only-of-type {\n",
       "        vertical-align: middle;\n",
       "    }\n",
       "\n",
       "    .dataframe tbody tr th {\n",
       "        vertical-align: top;\n",
       "    }\n",
       "\n",
       "    .dataframe thead th {\n",
       "        text-align: right;\n",
       "    }\n",
       "</style>\n",
       "<table border=\"1\" class=\"dataframe\">\n",
       "  <thead>\n",
       "    <tr style=\"text-align: right;\">\n",
       "      <th></th>\n",
       "      <th>Country</th>\n",
       "      <th>GlobalRegion</th>\n",
       "      <th>Age</th>\n",
       "      <th>Gender</th>\n",
       "      <th>Education</th>\n",
       "      <th>IncomeFeelings</th>\n",
       "      <th>INCOME_5</th>\n",
       "      <th>EMP_2010</th>\n",
       "      <th>Urbanicity</th>\n",
       "      <th>ChildrenInHousehold</th>\n",
       "      <th>...</th>\n",
       "      <th>Q22D</th>\n",
       "      <th>Q22E</th>\n",
       "      <th>Q23A</th>\n",
       "      <th>Q23B</th>\n",
       "      <th>Q23C</th>\n",
       "      <th>Q23D</th>\n",
       "      <th>Q23E</th>\n",
       "      <th>Perception_index</th>\n",
       "      <th>Experience_index</th>\n",
       "      <th>Impact_index</th>\n",
       "    </tr>\n",
       "  </thead>\n",
       "  <tbody>\n",
       "    <tr>\n",
       "      <th>0</th>\n",
       "      <td>United States</td>\n",
       "      <td>6.0</td>\n",
       "      <td>70.0</td>\n",
       "      <td>1.0</td>\n",
       "      <td>1.0</td>\n",
       "      <td>2.0</td>\n",
       "      <td>2.0</td>\n",
       "      <td>6.0</td>\n",
       "      <td>2.0</td>\n",
       "      <td>1.0</td>\n",
       "      <td>...</td>\n",
       "      <td>2.0</td>\n",
       "      <td>2.0</td>\n",
       "      <td>2.0</td>\n",
       "      <td>2.0</td>\n",
       "      <td>2.0</td>\n",
       "      <td>2.0</td>\n",
       "      <td>2.0</td>\n",
       "      <td>0.750000</td>\n",
       "      <td>0.0</td>\n",
       "      <td>0.0</td>\n",
       "    </tr>\n",
       "    <tr>\n",
       "      <th>1</th>\n",
       "      <td>United States</td>\n",
       "      <td>6.0</td>\n",
       "      <td>56.0</td>\n",
       "      <td>1.0</td>\n",
       "      <td>3.0</td>\n",
       "      <td>1.0</td>\n",
       "      <td>5.0</td>\n",
       "      <td>1.0</td>\n",
       "      <td>1.0</td>\n",
       "      <td>1.0</td>\n",
       "      <td>...</td>\n",
       "      <td>2.0</td>\n",
       "      <td>2.0</td>\n",
       "      <td>2.0</td>\n",
       "      <td>2.0</td>\n",
       "      <td>2.0</td>\n",
       "      <td>2.0</td>\n",
       "      <td>2.0</td>\n",
       "      <td>0.214286</td>\n",
       "      <td>0.0</td>\n",
       "      <td>0.0</td>\n",
       "    </tr>\n",
       "  </tbody>\n",
       "</table>\n",
       "<p>2 rows × 51 columns</p>\n",
       "</div>"
      ],
      "text/plain": [
       "         Country  GlobalRegion   Age  Gender  Education  IncomeFeelings  \\\n",
       "0  United States           6.0  70.0     1.0        1.0             2.0   \n",
       "1  United States           6.0  56.0     1.0        3.0             1.0   \n",
       "\n",
       "   INCOME_5  EMP_2010  Urbanicity  ChildrenInHousehold  ...  Q22D  Q22E  Q23A  \\\n",
       "0       2.0       6.0         2.0                  1.0  ...   2.0   2.0   2.0   \n",
       "1       5.0       1.0         1.0                  1.0  ...   2.0   2.0   2.0   \n",
       "\n",
       "   Q23B  Q23C  Q23D  Q23E  Perception_index  Experience_index  Impact_index  \n",
       "0   2.0   2.0   2.0   2.0          0.750000               0.0           0.0  \n",
       "1   2.0   2.0   2.0   2.0          0.214286               0.0           0.0  \n",
       "\n",
       "[2 rows x 51 columns]"
      ]
     },
     "execution_count": 45,
     "metadata": {},
     "output_type": "execute_result"
    }
   ],
   "source": [
    "df2 = df.drop(df.iloc[:, 68:194],axis = 1)\n",
    "cols_to_remove = ['WPID_RANDOM','WP5','WGT','Year','country.in.both.waves','CountryIncomeLevel2021','CountryIncomeLevel2019','PROJWT_2021','PROJWT_2019','AgeGroups4','HouseholdSize','Q2_1','Q3','Q6','Q7A','Q7C','resilience_index','Worried.Index','Experienced.Index','worry_exp_gap']\n",
    "df2 = df2.drop(cols_to_remove,axis=1)\n",
    "df2.head(2)"
   ]
  },
  {
   "cell_type": "markdown",
   "metadata": {},
   "source": [
    "### Step 1.2: Now let' estimate the value of Resilience index"
   ]
  },
  {
   "cell_type": "code",
   "execution_count": 46,
   "metadata": {},
   "outputs": [
    {
     "data": {
      "text/html": [
       "<div>\n",
       "<style scoped>\n",
       "    .dataframe tbody tr th:only-of-type {\n",
       "        vertical-align: middle;\n",
       "    }\n",
       "\n",
       "    .dataframe tbody tr th {\n",
       "        vertical-align: top;\n",
       "    }\n",
       "\n",
       "    .dataframe thead th {\n",
       "        text-align: right;\n",
       "    }\n",
       "</style>\n",
       "<table border=\"1\" class=\"dataframe\">\n",
       "  <thead>\n",
       "    <tr style=\"text-align: right;\">\n",
       "      <th></th>\n",
       "      <th>GlobalRegion</th>\n",
       "      <th>Country</th>\n",
       "      <th>Q20</th>\n",
       "      <th>Q21</th>\n",
       "      <th>Q10Q11Recode</th>\n",
       "      <th>Q16C</th>\n",
       "      <th>Q13</th>\n",
       "      <th>Q16D</th>\n",
       "      <th>Q16A</th>\n",
       "      <th>Q16B</th>\n",
       "      <th>Resilience_index</th>\n",
       "    </tr>\n",
       "  </thead>\n",
       "  <tbody>\n",
       "    <tr>\n",
       "      <th>0</th>\n",
       "      <td>6.0</td>\n",
       "      <td>United States</td>\n",
       "      <td>1.0</td>\n",
       "      <td>1.0</td>\n",
       "      <td>0.8</td>\n",
       "      <td>1.0</td>\n",
       "      <td>1.0</td>\n",
       "      <td>0.0</td>\n",
       "      <td>0.0</td>\n",
       "      <td>1.0</td>\n",
       "      <td>0.725</td>\n",
       "    </tr>\n",
       "    <tr>\n",
       "      <th>1</th>\n",
       "      <td>6.0</td>\n",
       "      <td>United States</td>\n",
       "      <td>1.0</td>\n",
       "      <td>1.0</td>\n",
       "      <td>0.8</td>\n",
       "      <td>1.0</td>\n",
       "      <td>1.0</td>\n",
       "      <td>1.0</td>\n",
       "      <td>0.0</td>\n",
       "      <td>1.0</td>\n",
       "      <td>0.850</td>\n",
       "    </tr>\n",
       "  </tbody>\n",
       "</table>\n",
       "</div>"
      ],
      "text/plain": [
       "   GlobalRegion        Country  Q20  Q21  Q10Q11Recode  Q16C  Q13  Q16D  Q16A  \\\n",
       "0           6.0  United States  1.0  1.0           0.8   1.0  1.0   0.0   0.0   \n",
       "1           6.0  United States  1.0  1.0           0.8   1.0  1.0   1.0   0.0   \n",
       "\n",
       "   Q16B  Resilience_index  \n",
       "0   1.0             0.725  \n",
       "1   1.0             0.850  "
      ]
     },
     "execution_count": 46,
     "metadata": {},
     "output_type": "execute_result"
    }
   ],
   "source": [
    "index_resi=df[['GlobalRegion','Country', 'Q20', 'Q21','Q10Q11Recode','Q16C', 'Q13','Q16D','Q16A','Q16B']].copy()\n",
    "\n",
    "# replace DOn't know and Refuse to answer to NaN\n",
    "cols_to_replace = ['Q20', 'Q21','Q10Q11Recode','Q16C', 'Q13','Q16D','Q16A','Q16B']\n",
    "replace_dict = {98: np.nan, 99: np.nan}\n",
    "index_resi[cols_to_replace] = index_resi[cols_to_replace].replace(replace_dict)\n",
    "\n",
    "\n",
    "# replace the values 2 with 0.5 and 3 with 0\n",
    "index_resi.loc[:, ['Q13']] = index_resi.loc[:, ['Q13']].replace({2: 0.5, 3: 0})\n",
    "index_resi.loc[:, ['Q10Q11Recode']] = index_resi.loc[:, ['Q10Q11Recode']].replace({1: 0.1, 2: 0.2, 3: 0.3, 4: 0.4, 5: 0.5, 6: 0.8, 7: 0.9, 8: 1, 9: 0.7})\n",
    "index_resi.loc[:, ['Q20','Q16D','Q16A','Q16B','Q16C']] = index_resi.loc[:, ['Q20','Q16D','Q16A','Q16B','Q16C']].replace({3: 0.5, 2: 0})\n",
    "index_resi.loc[:, ['Q21']] = index_resi.loc[:, ['Q21']].replace({2: 0})\n",
    "\n",
    "# define a function to compute the average of the non-ignored values in each row for perception score (worry) and experience score)\n",
    "def compute_average(row):\n",
    "    valid_values = [value for value in row if not pd.isna(value)]\n",
    "    if len(valid_values) > 0:\n",
    "        return np.mean(valid_values)\n",
    "    else:\n",
    "        return np.nan\n",
    "\n",
    "# create a new column with the computed average\n",
    "# index['individual_score'] = index.loc[:, []].apply(compute_average, axis=1)\n",
    "#index_resi['household_score'] = index_resi.loc[:, ['Q21','Q10Q11Recode','Q16C']].apply(compute_average, axis=1)\n",
    "#index_resi['community_score'] = index_resi.loc[:, ['Q13', 'Q16D']].apply(compute_average, axis=1)\n",
    "#index_resi['society_score'] = index_resi.loc[:, ['Q16A','Q16B']].apply(compute_average, axis=1)\n",
    "\n",
    "# Calculating individual resilience score\n",
    "index_resi['Resilience_index'] = index_resi.loc[:, cols_to_replace].apply(compute_average, axis=1)\n",
    "index_resi.head(2)"
   ]
  },
  {
   "cell_type": "code",
   "execution_count": 47,
   "metadata": {},
   "outputs": [
    {
     "data": {
      "text/html": [
       "<div>\n",
       "<style scoped>\n",
       "    .dataframe tbody tr th:only-of-type {\n",
       "        vertical-align: middle;\n",
       "    }\n",
       "\n",
       "    .dataframe tbody tr th {\n",
       "        vertical-align: top;\n",
       "    }\n",
       "\n",
       "    .dataframe thead th {\n",
       "        text-align: right;\n",
       "    }\n",
       "</style>\n",
       "<table border=\"1\" class=\"dataframe\">\n",
       "  <thead>\n",
       "    <tr style=\"text-align: right;\">\n",
       "      <th></th>\n",
       "      <th>Country</th>\n",
       "      <th>GlobalRegion</th>\n",
       "      <th>Age</th>\n",
       "      <th>Gender</th>\n",
       "      <th>Education</th>\n",
       "      <th>IncomeFeelings</th>\n",
       "      <th>INCOME_5</th>\n",
       "      <th>EMP_2010</th>\n",
       "      <th>Urbanicity</th>\n",
       "      <th>ChildrenInHousehold</th>\n",
       "      <th>...</th>\n",
       "      <th>Q22E</th>\n",
       "      <th>Q23A</th>\n",
       "      <th>Q23B</th>\n",
       "      <th>Q23C</th>\n",
       "      <th>Q23D</th>\n",
       "      <th>Q23E</th>\n",
       "      <th>Perception_index</th>\n",
       "      <th>Experience_index</th>\n",
       "      <th>Impact_index</th>\n",
       "      <th>Resilience_index</th>\n",
       "    </tr>\n",
       "  </thead>\n",
       "  <tbody>\n",
       "    <tr>\n",
       "      <th>0</th>\n",
       "      <td>United States</td>\n",
       "      <td>6.0</td>\n",
       "      <td>70.0</td>\n",
       "      <td>1.0</td>\n",
       "      <td>1.0</td>\n",
       "      <td>2.0</td>\n",
       "      <td>2.0</td>\n",
       "      <td>6.0</td>\n",
       "      <td>2.0</td>\n",
       "      <td>1.0</td>\n",
       "      <td>...</td>\n",
       "      <td>2.0</td>\n",
       "      <td>2.0</td>\n",
       "      <td>2.0</td>\n",
       "      <td>2.0</td>\n",
       "      <td>2.0</td>\n",
       "      <td>2.0</td>\n",
       "      <td>0.750000</td>\n",
       "      <td>0.0</td>\n",
       "      <td>0.0</td>\n",
       "      <td>0.725</td>\n",
       "    </tr>\n",
       "    <tr>\n",
       "      <th>1</th>\n",
       "      <td>United States</td>\n",
       "      <td>6.0</td>\n",
       "      <td>56.0</td>\n",
       "      <td>1.0</td>\n",
       "      <td>3.0</td>\n",
       "      <td>1.0</td>\n",
       "      <td>5.0</td>\n",
       "      <td>1.0</td>\n",
       "      <td>1.0</td>\n",
       "      <td>1.0</td>\n",
       "      <td>...</td>\n",
       "      <td>2.0</td>\n",
       "      <td>2.0</td>\n",
       "      <td>2.0</td>\n",
       "      <td>2.0</td>\n",
       "      <td>2.0</td>\n",
       "      <td>2.0</td>\n",
       "      <td>0.214286</td>\n",
       "      <td>0.0</td>\n",
       "      <td>0.0</td>\n",
       "      <td>0.850</td>\n",
       "    </tr>\n",
       "  </tbody>\n",
       "</table>\n",
       "<p>2 rows × 44 columns</p>\n",
       "</div>"
      ],
      "text/plain": [
       "         Country  GlobalRegion   Age  Gender  Education  IncomeFeelings  \\\n",
       "0  United States           6.0  70.0     1.0        1.0             2.0   \n",
       "1  United States           6.0  56.0     1.0        3.0             1.0   \n",
       "\n",
       "   INCOME_5  EMP_2010  Urbanicity  ChildrenInHousehold  ...  Q22E  Q23A  Q23B  \\\n",
       "0       2.0       6.0         2.0                  1.0  ...   2.0   2.0   2.0   \n",
       "1       5.0       1.0         1.0                  1.0  ...   2.0   2.0   2.0   \n",
       "\n",
       "   Q23C  Q23D  Q23E  Perception_index  Experience_index  Impact_index  \\\n",
       "0   2.0   2.0   2.0          0.750000               0.0           0.0   \n",
       "1   2.0   2.0   2.0          0.214286               0.0           0.0   \n",
       "\n",
       "   Resilience_index  \n",
       "0             0.725  \n",
       "1             0.850  \n",
       "\n",
       "[2 rows x 44 columns]"
      ]
     },
     "execution_count": 47,
     "metadata": {},
     "output_type": "execute_result"
    }
   ],
   "source": [
    "# Merge Resilience index to the main dataframe\n",
    "df2= df2.drop(cols_to_replace, axis=1)\n",
    "df2 = df2.join(index_resi[['Resilience_index']])\n",
    "df2.head(2)\n"
   ]
  },
  {
   "cell_type": "markdown",
   "metadata": {},
   "source": [
    "Now let's do some final data cleaning "
   ]
  },
  {
   "cell_type": "code",
   "execution_count": 62,
   "metadata": {},
   "outputs": [],
   "source": [
    "#df2.drop(['Q11_1','Q11_2'])\n",
    "df2=df2.dropna(thresh=df2.shape[0]*0.3,how='all',axis=1)\n",
    "df2=df2.fillna(df2.mean())"
   ]
  },
  {
   "cell_type": "markdown",
   "metadata": {},
   "source": [
    "## Step 2: Perform Causal Discovery using a Bayesian Network"
   ]
  },
  {
   "cell_type": "markdown",
   "metadata": {},
   "source": [
    "Bayesian networks (BNs) can be used for causal discovery from observational data. In fact, they are one of the primary tools for this task.\n",
    "\n",
    "A Bayesian network is a directed acyclic graph (DAG) that represents the joint probability distribution over a set of variables. Each node in the graph corresponds to a variable, and the edges between the nodes represent probabilistic dependencies between the variables.\n",
    "\n",
    "In the context of causal discovery, the variables are random variables that represent possible causes and effects, and the edges in the graph represent causal relationships. When we have observational data over these variables, we can learn the structure of the BN -- i.e., we can perform causal discovery.\n",
    "\n",
    "The learning process is usually divided into two steps:\n",
    "\n",
    "- Structure learning: Given the data, learn the underlying DAG that represents the data. The most common methods for structure learning are constraint-based methods, score-based methods, and hybrid methods.\n",
    "\n",
    "- Parameter learning: Once we know the structure of the DAG, we can estimate the conditional probability distributions of the variables given their parents in the DAG.\n",
    "\n",
    "Once we have the BN, we can perform various kinds of causal inference queries, such as predicting the effect of interventions (do-calculus), finding the most probable cause for observed effects (Most Probable Explanation), and so on.\n",
    "\n",
    "However, there are also some limitations to be aware of:\n",
    "\n",
    "- Data sufficiency: Learning the full structure of a BN can require a lot of data. If data is scarce, some edges (causal relationships) might be missed, or spurious edges might be included.\n",
    "\n",
    "- Causal sufficiency: If there are unmeasured confounding variables, the learned BN might not correctly represent the true causal relationships.\n",
    "\n",
    "- Assumption of linearity or non-linearity: Some methods for learning BNs assume linear relationships between variables, others do not. The choice of method can affect the resulting BN."
   ]
  },
  {
   "cell_type": "code",
   "execution_count": 63,
   "metadata": {},
   "outputs": [
    {
     "name": "stderr",
     "output_type": "stream",
     "text": [
      "  0%|          | 61/1000000 [07:10<1960:46:09,  7.06s/it] \n"
     ]
    },
    {
     "data": {
      "image/png": "[encoded data removed]",
      "text/plain": [
       "<Figure size 640x480 with 1 Axes>"
      ]
     },
     "metadata": {},
     "output_type": "display_data"
    }
   ],
   "source": [
    "import pygraphviz as pgv\n",
    "from networkx.drawing.nx_agraph import graphviz_layout\n",
    "\n",
    "# data is your DataFrame\n",
    "hc = HillClimbSearch(df2)\n",
    "bic = BicScore(df2)\n",
    "best_model = hc.estimate(scoring_method=bic)\n",
    "\n",
    "# Create a new graph and add edges\n",
    "G = nx.DiGraph()\n",
    "G.add_edges_from(best_model.edges())\n",
    "\n",
    "# Use pygraphviz to create the layout\n",
    "pos = graphviz_layout(G, prog='dot')\n",
    "\n",
    "# Draw the graph\n",
    "# Create a new figure and axis\n",
    "fig, ax = plt.subplots()\n",
    "\n",
    "nx.draw(G, pos, with_labels=True, arrowsize=20, node_size=800, alpha=0.3, font_weight='bold', ax=ax)\n",
    "plt.show()\n"
   ]
  },
  {
   "cell_type": "code",
   "execution_count": 64,
   "metadata": {},
   "outputs": [
    {
     "name": "stdout",
     "output_type": "stream",
     "text": [
      "[('Country', 'GlobalRegion'), ('Country', 'Education'), ('Country', 'Q1'), ('Country', 'IncomeFeelings'), ('Country', 'Urbanicity'), ('Country', 'Q9'), ('GlobalRegion', 'ChildrenInHousehold'), ('GlobalRegion', 'Q14D'), ('GlobalRegion', 'Q23B'), ('GlobalRegion', 'Q14E'), ('GlobalRegion', 'Gender'), ('GlobalRegion', 'Q23E'), ('Gender', 'Q23D'), ('Education', 'Urbanicity'), ('IncomeFeelings', 'INCOME_5'), ('INCOME_5', 'Education'), ('EMP_2010', 'Country'), ('EMP_2010', 'Age'), ('EMP_2010', 'Gender'), ('ChildrenInHousehold', 'INCOME_5'), ('Q9', 'Q8'), ('Q10', 'Q22B'), ('Q10', 'Q8'), ('Q10', 'Q22A'), ('Q11_2', 'Q10'), ('Q14A', 'Q14F'), ('Q14A', 'Q14C'), ('Q14A', 'Resilience_index'), ('Q14A', 'Q15'), ('Q14B', 'Q14A'), ('Q14B', 'Q14C'), ('Q14C', 'Q15'), ('Q14D', 'Q23B'), ('Q14D', 'Q23D'), ('Q14E', 'Q14D'), ('Q14F', 'Q14E'), ('Q14F', 'Q14G'), ('Q14G', 'EMP_2010'), ('Q15', 'Q14F'), ('Q15', 'Q14G'), ('Q22A', 'Q22E'), ('Q22A', 'ChildrenInHousehold'), ('Q22A', 'Q22C'), ('Q22A', 'Country'), ('Q22B', 'Q22A'), ('Q22B', 'Q22D'), ('Q22B', 'Q22E'), ('Q22C', 'Perception_index'), ('Q22C', 'Q17'), ('Q22D', 'Q22C'), ('Q22D', 'Experience_index'), ('Q22E', 'Q22D'), ('Q23A', 'Q23E'), ('Q23B', 'Q23C'), ('Q23C', 'Q23D'), ('Q23C', 'Q23A'), ('Q23D', 'Q23A'), ('Perception_index', 'Impact_index'), ('Perception_index', 'EMP_2010'), ('Resilience_index', 'Q10'), ('Resilience_index', 'Q11_2')]\n"
     ]
    }
   ],
   "source": [
    "print(best_model.edges())\n"
   ]
  },
  {
   "cell_type": "markdown",
   "metadata": {},
   "source": [
    "### Estimating Causal Effects with DoWhy \n",
    "\n",
    "Code adopted from: https://microsoft.github.io/dowhy/example_notebooks/dowhy-conditional-treatment-effects.html"
   ]
  },
  {
   "cell_type": "markdown",
   "metadata": {},
   "source": [
    "#### Define causal model"
   ]
  },
  {
   "cell_type": "code",
   "execution_count": 49,
   "metadata": {},
   "outputs": [],
   "source": [
    "model=CausalModel(\n",
    "        data = encoded_df,\n",
    "        treatment= \"education-num\",\n",
    "        outcome= \"income_ >50K\",\n",
    "        common_causes=\"age\",\n",
    "        )"
   ]
  },
  {
   "cell_type": "code",
   "execution_count": 50,
   "metadata": {},
   "outputs": [
    {
     "data": {
      "image/png": "[encoded data removed]",
      "text/plain": [
       "<Figure size 800x600 with 1 Axes>"
      ]
     },
     "metadata": {},
     "output_type": "display_data"
    }
   ],
   "source": [
    "# View model\n",
    "model.view_model()\n",
    "#from IPython.display import Image, display\n",
    "#display(Image(filename=\"causal_model.png\"))"
   ]
  },
  {
   "cell_type": "markdown",
   "metadata": {},
   "source": [
    "#### Generate estimand i.e. recipe for calculating causal effect"
   ]
  },
  {
   "cell_type": "code",
   "execution_count": 51,
   "metadata": {},
   "outputs": [
    {
     "name": "stdout",
     "output_type": "stream",
     "text": [
      "Estimand type: nonparametric-ate\n",
      "\n",
      "### Estimand : 1\n",
      "Estimand name: backdoor\n",
      "Estimand expression:\n",
      "       d                                       \n",
      "────────────────(Expectation(income_ >50K|age))\n",
      "d[education-num]                               \n",
      "Estimand assumption 1, Unconfoundedness: If U→{education-num} and U→income_ >50K then P(income_ >50K|education-num,age,U) = P(income_ >50K|education-num,age)\n",
      "\n",
      "### Estimand : 2\n",
      "Estimand name: iv\n",
      "No such variable(s) found!\n",
      "\n",
      "### Estimand : 3\n",
      "Estimand name: frontdoor\n",
      "No such variable(s) found!\n",
      "\n"
     ]
    }
   ],
   "source": [
    "identified_estimand= model.identify_effect(proceed_when_unidentifiable=True)\n",
    "print(identified_estimand)"
   ]
  },
  {
   "cell_type": "markdown",
   "metadata": {},
   "source": [
    "#### Compute causal effect using metaleaner"
   ]
  },
  {
   "cell_type": "code",
   "execution_count": 52,
   "metadata": {},
   "outputs": [
    {
     "name": "stderr",
     "output_type": "stream",
     "text": [
      "A column-vector y was passed when a 1d array was expected. Please change the shape of y to (n_samples, ), for example using ravel().\n"
     ]
    },
    {
     "ename": "ValueError",
     "evalue": "Found unknown categories [0] in column 0 during transform",
     "output_type": "error",
     "traceback": [
      "\u001b[0;31m---------------------------------------------------------------------------\u001b[0m",
      "\u001b[0;31mValueError\u001b[0m                                Traceback (most recent call last)",
      "Cell \u001b[0;32mIn[52], line 4\u001b[0m\n\u001b[1;32m      1\u001b[0m identified_estimand_experiment \u001b[38;5;241m=\u001b[39m model\u001b[38;5;241m.\u001b[39midentify_effect(proceed_when_unidentifiable\u001b[38;5;241m=\u001b[39m\u001b[38;5;28;01mTrue\u001b[39;00m)\n\u001b[0;32m----> 4\u001b[0m metalearner_estimate \u001b[38;5;241m=\u001b[39m \u001b[43mmodel\u001b[49m\u001b[38;5;241;43m.\u001b[39;49m\u001b[43mestimate_effect\u001b[49m\u001b[43m(\u001b[49m\u001b[43midentified_estimand_experiment\u001b[49m\u001b[43m,\u001b[49m\n\u001b[1;32m      5\u001b[0m \u001b[43m                                \u001b[49m\u001b[43mmethod_name\u001b[49m\u001b[38;5;241;43m=\u001b[39;49m\u001b[38;5;124;43m\"\u001b[39;49m\u001b[38;5;124;43mbackdoor.econml.metalearners.TLearner\u001b[39;49m\u001b[38;5;124;43m\"\u001b[39;49m\u001b[43m,\u001b[49m\n\u001b[1;32m      6\u001b[0m \u001b[43m                                \u001b[49m\u001b[43mconfidence_intervals\u001b[49m\u001b[38;5;241;43m=\u001b[39;49m\u001b[38;5;28;43;01mFalse\u001b[39;49;00m\u001b[43m,\u001b[49m\n\u001b[1;32m      7\u001b[0m \u001b[43m                                \u001b[49m\u001b[43mmethod_params\u001b[49m\u001b[38;5;241;43m=\u001b[39;49m\u001b[43m{\u001b[49m\u001b[38;5;124;43m\"\u001b[39;49m\u001b[38;5;124;43minit_params\u001b[39;49m\u001b[38;5;124;43m\"\u001b[39;49m\u001b[43m:\u001b[49m\u001b[43m{\u001b[49m\n\u001b[1;32m      8\u001b[0m \u001b[43m                                                    \u001b[49m\u001b[38;5;124;43m'\u001b[39;49m\u001b[38;5;124;43mmodels\u001b[39;49m\u001b[38;5;124;43m'\u001b[39;49m\u001b[43m:\u001b[49m\u001b[43m \u001b[49m\u001b[43mRandomForestRegressor\u001b[49m\u001b[43m(\u001b[49m\u001b[43m)\u001b[49m\n\u001b[1;32m      9\u001b[0m \u001b[43m                                                    \u001b[49m\u001b[43m}\u001b[49m\u001b[43m,\u001b[49m\n\u001b[1;32m     10\u001b[0m \u001b[43m                                               \u001b[49m\u001b[38;5;124;43m\"\u001b[39;49m\u001b[38;5;124;43mfit_params\u001b[39;49m\u001b[38;5;124;43m\"\u001b[39;49m\u001b[43m:\u001b[49m\u001b[43m{\u001b[49m\u001b[43m}\u001b[49m\n\u001b[1;32m     11\u001b[0m \u001b[43m                                              \u001b[49m\u001b[43m}\u001b[49m\u001b[43m)\u001b[49m\n\u001b[1;32m     12\u001b[0m \u001b[38;5;28mprint\u001b[39m(metalearner_estimate)\n",
      "File \u001b[0;32m~/opt/anaconda3/envs/causal/lib/python3.8/site-packages/dowhy/causal_model.py:316\u001b[0m, in \u001b[0;36mCausalModel.estimate_effect\u001b[0;34m(self, identified_estimand, method_name, control_value, treatment_value, test_significance, evaluate_effect_strength, confidence_intervals, target_units, effect_modifiers, fit_estimator, method_params)\u001b[0m\n\u001b[1;32m    312\u001b[0m     \u001b[39massert\u001b[39;00m \u001b[39mself\u001b[39m\u001b[39m.\u001b[39mcausal_estimator \u001b[39mis\u001b[39;00m \u001b[39mnot\u001b[39;00m \u001b[39mNone\u001b[39;00m\n\u001b[1;32m    313\u001b[0m     \u001b[39mself\u001b[39m\u001b[39m.\u001b[39mcausal_estimator\u001b[39m.\u001b[39mupdate_input(treatment_value, control_value,\n\u001b[1;32m    314\u001b[0m             target_units)\n\u001b[0;32m--> 316\u001b[0m estimate \u001b[39m=\u001b[39m \u001b[39mself\u001b[39;49m\u001b[39m.\u001b[39;49mcausal_estimator\u001b[39m.\u001b[39;49mestimate_effect()\n\u001b[1;32m    317\u001b[0m \u001b[39m# Store parameters inside estimate object for refutation methods\u001b[39;00m\n\u001b[1;32m    318\u001b[0m \u001b[39m# TODO: This add_params needs to move to the estimator class\u001b[39;00m\n\u001b[1;32m    319\u001b[0m \u001b[39m# inside estimate_effect and estimate_conditional_effect\u001b[39;00m\n\u001b[1;32m    320\u001b[0m estimate\u001b[39m.\u001b[39madd_params(\n\u001b[1;32m    321\u001b[0m     estimand_type\u001b[39m=\u001b[39midentified_estimand\u001b[39m.\u001b[39mestimand_type,\n\u001b[1;32m    322\u001b[0m     estimator_class\u001b[39m=\u001b[39mcausal_estimator_class,\n\u001b[0;32m   (...)\u001b[0m\n\u001b[1;32m    328\u001b[0m     method_params\u001b[39m=\u001b[39mmethod_params\n\u001b[1;32m    329\u001b[0m )\n",
      "File \u001b[0;32m~/opt/anaconda3/envs/causal/lib/python3.8/site-packages/dowhy/causal_estimator.py:191\u001b[0m, in \u001b[0;36mCausalEstimator.estimate_effect\u001b[0;34m(self)\u001b[0m\n\u001b[1;32m    183\u001b[0m \u001b[39mdef\u001b[39;00m \u001b[39mestimate_effect\u001b[39m(\u001b[39mself\u001b[39m):\n\u001b[1;32m    184\u001b[0m \u001b[39m    \u001b[39m\u001b[39m\"\"\"Base estimation method that calls the estimate_effect method of its calling subclass.\u001b[39;00m\n\u001b[1;32m    185\u001b[0m \n\u001b[1;32m    186\u001b[0m \u001b[39m    Can optionally also test significance and estimate effect strength for any returned estimate.\u001b[39;00m\n\u001b[0;32m   (...)\u001b[0m\n\u001b[1;32m    189\u001b[0m \u001b[39m    :returns: A CausalEstimate instance that contains point estimates of average and conditional effects. Based on the parameters provided, it optionally includes confidence intervals, standard errors,statistical significance and other statistical parameters.\u001b[39;00m\n\u001b[1;32m    190\u001b[0m \u001b[39m    \"\"\"\u001b[39;00m\n\u001b[0;32m--> 191\u001b[0m     est \u001b[39m=\u001b[39m \u001b[39mself\u001b[39;49m\u001b[39m.\u001b[39;49m_estimate_effect()\n\u001b[1;32m    192\u001b[0m     est\u001b[39m.\u001b[39madd_estimator(\u001b[39mself\u001b[39m)\n\u001b[1;32m    194\u001b[0m     \u001b[39mif\u001b[39;00m \u001b[39mself\u001b[39m\u001b[39m.\u001b[39m_significance_test:\n",
      "File \u001b[0;32m~/opt/anaconda3/envs/causal/lib/python3.8/site-packages/dowhy/causal_estimators/econml.py:137\u001b[0m, in \u001b[0;36mEconml._estimate_effect\u001b[0;34m(self)\u001b[0m\n\u001b[1;32m    135\u001b[0m T0_test \u001b[39m=\u001b[39m np\u001b[39m.\u001b[39mrepeat([\u001b[39mself\u001b[39m\u001b[39m.\u001b[39m_control_value], n_target_units, axis\u001b[39m=\u001b[39m\u001b[39m0\u001b[39m)\n\u001b[1;32m    136\u001b[0m T1_test \u001b[39m=\u001b[39m np\u001b[39m.\u001b[39mrepeat([\u001b[39mself\u001b[39m\u001b[39m.\u001b[39m_treatment_value], n_target_units, axis\u001b[39m=\u001b[39m\u001b[39m0\u001b[39m)\n\u001b[0;32m--> 137\u001b[0m est \u001b[39m=\u001b[39m \u001b[39mself\u001b[39;49m\u001b[39m.\u001b[39;49mestimator\u001b[39m.\u001b[39;49meffect(X_test, T0\u001b[39m=\u001b[39;49mT0_test, T1\u001b[39m=\u001b[39;49mT1_test)\n\u001b[1;32m    138\u001b[0m ate \u001b[39m=\u001b[39m np\u001b[39m.\u001b[39mmean(est)\n\u001b[1;32m    140\u001b[0m \u001b[39mself\u001b[39m\u001b[39m.\u001b[39meffect_intervals \u001b[39m=\u001b[39m \u001b[39mNone\u001b[39;00m\n",
      "File \u001b[0;32m~/opt/anaconda3/envs/causal/lib/python3.8/site-packages/econml/_cate_estimator.py:909\u001b[0m, in \u001b[0;36mTreatmentExpansionMixin.effect\u001b[0;34m(self, X, T0, T1)\u001b[0m\n\u001b[1;32m    907\u001b[0m \u001b[39mdef\u001b[39;00m \u001b[39meffect\u001b[39m(\u001b[39mself\u001b[39m, X\u001b[39m=\u001b[39m\u001b[39mNone\u001b[39;00m, \u001b[39m*\u001b[39m, T0\u001b[39m=\u001b[39m\u001b[39m0\u001b[39m, T1\u001b[39m=\u001b[39m\u001b[39m1\u001b[39m):\n\u001b[1;32m    908\u001b[0m     \u001b[39m# NOTE: don't explicitly expand treatments here, because it's done in the super call\u001b[39;00m\n\u001b[0;32m--> 909\u001b[0m     \u001b[39mreturn\u001b[39;00m \u001b[39msuper\u001b[39;49m()\u001b[39m.\u001b[39;49meffect(X, T0\u001b[39m=\u001b[39;49mT0, T1\u001b[39m=\u001b[39;49mT1)\n",
      "File \u001b[0;32m~/opt/anaconda3/envs/causal/lib/python3.8/site-packages/econml/_cate_estimator.py:594\u001b[0m, in \u001b[0;36mLinearCateEstimator.effect\u001b[0;34m(self, X, T0, T1)\u001b[0m\n\u001b[1;32m    569\u001b[0m \u001b[39mdef\u001b[39;00m \u001b[39meffect\u001b[39m(\u001b[39mself\u001b[39m, X\u001b[39m=\u001b[39m\u001b[39mNone\u001b[39;00m, \u001b[39m*\u001b[39m, T0, T1):\n\u001b[1;32m    570\u001b[0m \u001b[39m    \u001b[39m\u001b[39m\"\"\"\u001b[39;00m\n\u001b[1;32m    571\u001b[0m \u001b[39m    Calculate the heterogeneous treatment effect :math:`\\\\tau(X, T0, T1)`.\u001b[39;00m\n\u001b[1;32m    572\u001b[0m \n\u001b[0;32m   (...)\u001b[0m\n\u001b[1;32m    592\u001b[0m \u001b[39m        singleton dimension will be collapsed (so this method will return a vector)\u001b[39;00m\n\u001b[1;32m    593\u001b[0m \u001b[39m    \"\"\"\u001b[39;00m\n\u001b[0;32m--> 594\u001b[0m     X, T0, T1 \u001b[39m=\u001b[39m \u001b[39mself\u001b[39;49m\u001b[39m.\u001b[39;49m_expand_treatments(X, T0, T1)\n\u001b[1;32m    595\u001b[0m     \u001b[39m# TODO: what if input is sparse? - there's no equivalent to einsum,\u001b[39;00m\n\u001b[1;32m    596\u001b[0m     \u001b[39m#       but tensordot can't be applied to this problem because we don't sum over m\u001b[39;00m\n\u001b[1;32m    597\u001b[0m     eff \u001b[39m=\u001b[39m \u001b[39mself\u001b[39m\u001b[39m.\u001b[39mconst_marginal_effect(X)\n",
      "File \u001b[0;32m~/opt/anaconda3/envs/causal/lib/python3.8/site-packages/econml/_cate_estimator.py:866\u001b[0m, in \u001b[0;36mTreatmentExpansionMixin._expand_treatments\u001b[0;34m(self, X, transform, *Ts)\u001b[0m\n\u001b[1;32m    864\u001b[0m         \u001b[39mif\u001b[39;00m \u001b[39mnot\u001b[39;00m \u001b[39mself\u001b[39m\u001b[39m.\u001b[39m_original_treatment_featurizer:\n\u001b[1;32m    865\u001b[0m             T \u001b[39m=\u001b[39m T\u001b[39m.\u001b[39mreshape(\u001b[39m-\u001b[39m\u001b[39m1\u001b[39m, \u001b[39m1\u001b[39m)\n\u001b[0;32m--> 866\u001b[0m         T \u001b[39m=\u001b[39m \u001b[39mself\u001b[39;49m\u001b[39m.\u001b[39;49mtransformer\u001b[39m.\u001b[39;49mtransform(T)\n\u001b[1;32m    867\u001b[0m     outTs\u001b[39m.\u001b[39mappend(T)\n\u001b[1;32m    869\u001b[0m \u001b[39mreturn\u001b[39;00m (X,) \u001b[39m+\u001b[39m \u001b[39mtuple\u001b[39m(outTs)\n",
      "File \u001b[0;32m~/opt/anaconda3/envs/causal/lib/python3.8/site-packages/sklearn/preprocessing/_encoders.py:882\u001b[0m, in \u001b[0;36mOneHotEncoder.transform\u001b[0;34m(self, X)\u001b[0m\n\u001b[1;32m    877\u001b[0m \u001b[39m# validation of X happens in _check_X called by _transform\u001b[39;00m\n\u001b[1;32m    878\u001b[0m warn_on_unknown \u001b[39m=\u001b[39m \u001b[39mself\u001b[39m\u001b[39m.\u001b[39mdrop \u001b[39mis\u001b[39;00m \u001b[39mnot\u001b[39;00m \u001b[39mNone\u001b[39;00m \u001b[39mand\u001b[39;00m \u001b[39mself\u001b[39m\u001b[39m.\u001b[39mhandle_unknown \u001b[39min\u001b[39;00m {\n\u001b[1;32m    879\u001b[0m     \u001b[39m\"\u001b[39m\u001b[39mignore\u001b[39m\u001b[39m\"\u001b[39m,\n\u001b[1;32m    880\u001b[0m     \u001b[39m\"\u001b[39m\u001b[39minfrequent_if_exist\u001b[39m\u001b[39m\"\u001b[39m,\n\u001b[1;32m    881\u001b[0m }\n\u001b[0;32m--> 882\u001b[0m X_int, X_mask \u001b[39m=\u001b[39m \u001b[39mself\u001b[39;49m\u001b[39m.\u001b[39;49m_transform(\n\u001b[1;32m    883\u001b[0m     X,\n\u001b[1;32m    884\u001b[0m     handle_unknown\u001b[39m=\u001b[39;49m\u001b[39mself\u001b[39;49m\u001b[39m.\u001b[39;49mhandle_unknown,\n\u001b[1;32m    885\u001b[0m     force_all_finite\u001b[39m=\u001b[39;49m\u001b[39m\"\u001b[39;49m\u001b[39mallow-nan\u001b[39;49m\u001b[39m\"\u001b[39;49m,\n\u001b[1;32m    886\u001b[0m     warn_on_unknown\u001b[39m=\u001b[39;49mwarn_on_unknown,\n\u001b[1;32m    887\u001b[0m )\n\u001b[1;32m    888\u001b[0m \u001b[39mself\u001b[39m\u001b[39m.\u001b[39m_map_infrequent_categories(X_int, X_mask)\n\u001b[1;32m    890\u001b[0m n_samples, n_features \u001b[39m=\u001b[39m X_int\u001b[39m.\u001b[39mshape\n",
      "File \u001b[0;32m~/opt/anaconda3/envs/causal/lib/python3.8/site-packages/sklearn/preprocessing/_encoders.py:160\u001b[0m, in \u001b[0;36m_BaseEncoder._transform\u001b[0;34m(self, X, handle_unknown, force_all_finite, warn_on_unknown)\u001b[0m\n\u001b[1;32m    155\u001b[0m \u001b[39mif\u001b[39;00m handle_unknown \u001b[39m==\u001b[39m \u001b[39m\"\u001b[39m\u001b[39merror\u001b[39m\u001b[39m\"\u001b[39m:\n\u001b[1;32m    156\u001b[0m     msg \u001b[39m=\u001b[39m (\n\u001b[1;32m    157\u001b[0m         \u001b[39m\"\u001b[39m\u001b[39mFound unknown categories \u001b[39m\u001b[39m{0}\u001b[39;00m\u001b[39m in column \u001b[39m\u001b[39m{1}\u001b[39;00m\u001b[39m\"\u001b[39m\n\u001b[1;32m    158\u001b[0m         \u001b[39m\"\u001b[39m\u001b[39m during transform\u001b[39m\u001b[39m\"\u001b[39m\u001b[39m.\u001b[39mformat(diff, i)\n\u001b[1;32m    159\u001b[0m     )\n\u001b[0;32m--> 160\u001b[0m     \u001b[39mraise\u001b[39;00m \u001b[39mValueError\u001b[39;00m(msg)\n\u001b[1;32m    161\u001b[0m \u001b[39melse\u001b[39;00m:\n\u001b[1;32m    162\u001b[0m     \u001b[39mif\u001b[39;00m warn_on_unknown:\n",
      "\u001b[0;31mValueError\u001b[0m: Found unknown categories [0] in column 0 during transform"
     ]
    }
   ],
   "source": [
    "identified_estimand_experiment = model.identify_effect(proceed_when_unidentifiable=True)\n",
    "\n",
    "\n",
    "metalearner_estimate = model.estimate_effect(identified_estimand_experiment,\n",
    "                                method_name=\"backdoor.econml.metalearners.TLearner\",\n",
    "                                confidence_intervals=False,\n",
    "                                method_params={\"init_params\":{\n",
    "                                                    'models': RandomForestRegressor()\n",
    "                                                    },\n",
    "                                               \"fit_params\":{}\n",
    "                                              })\n",
    "print(metalearner_estimate)"
   ]
  },
  {
   "cell_type": "code",
   "execution_count": 44,
   "metadata": {},
   "outputs": [
    {
     "data": {
      "text/plain": [
       "(array([6.700e+01, 0.000e+00, 0.000e+00, 0.000e+00, 4.805e+03, 1.650e+03,\n",
       "        1.707e+03, 5.660e+02, 1.104e+03, 3.535e+03, 6.367e+03, 6.274e+03,\n",
       "        4.434e+03, 1.469e+03, 1.780e+02, 2.560e+02, 0.000e+00, 1.430e+02,\n",
       "        0.000e+00, 6.000e+00]),\n",
       " array([-0.15944615, -0.12383815, -0.08823015, -0.05262214, -0.01701414,\n",
       "         0.01859387,  0.05420187,  0.08980987,  0.12541788,  0.16102588,\n",
       "         0.19663389,  0.23224189,  0.26784989,  0.3034579 ,  0.3390659 ,\n",
       "         0.37467391,  0.41028191,  0.44588991,  0.48149792,  0.51710592,\n",
       "         0.55271392]),\n",
       " <BarContainer object of 20 artists>)"
      ]
     },
     "execution_count": 44,
     "metadata": {},
     "output_type": "execute_result"
    },
    {
     "data": {
      "image/png": "[encoded data removed]",
      "text/plain": [
       "<Figure size 640x480 with 1 Axes>"
      ]
     },
     "metadata": {},
     "output_type": "display_data"
    }
   ],
   "source": [
    "# print histogram of causal effects for each sample\n",
    "plt.hist(metalearner_estimate.cate_estimates,bins=20)"
   ]
  }
 ],
 "metadata": {
  "kernelspec": {
   "display_name": "Python 3.11.3 ('causal')",
   "language": "python",
   "name": "python3"
  },
  "language_info": {
   "codemirror_mode": {
    "name": "ipython",
    "version": 3
   },
   "file_extension": ".py",
   "mimetype": "text/x-python",
   "name": "python",
   "nbconvert_exporter": "python",
   "pygments_lexer": "ipython3",
   "version": "3.8.10"
  },
  "vscode": {
   "interpreter": {
    "hash": "2cb7cc054190f6a9f61a488deded6b046aa8b6fd262ced6af83b58d1c06e36a6"
   }
  }
 },
 "nbformat": 4,
 "nbformat_minor": 4
}
